{
  "nbformat": 4,
  "nbformat_minor": 0,
  "metadata": {
    "colab": {
      "name": "Movies Scrapper.ipynb",
      "provenance": []
    },
    "kernelspec": {
      "display_name": "Python 3",
      "name": "python3"
    },
    "language_info": {
      "name": "python"
    }
  },
  "cells": [
    {
      "cell_type": "markdown",
      "metadata": {
        "id": "iA-B2WJ8BckQ"
      },
      "source": [
        "## Uploading Project From Github\n",
        "#### Installing python package from requirements.txt file"
      ]
    },
    {
      "cell_type": "code",
      "metadata": {
        "id": "9iThsjt76qlZ"
      },
      "source": [
        "!pip install streamlit -q\n",
        "!pip install -r https://raw.githubusercontent.com/sherif-abdallah/Movie-Link/main/requirements.txt\n",
        "!git clone https://github.com/sherif-abdallah/Movie-Link.git"
      ],
      "execution_count": null,
      "outputs": []
    },
    {
      "cell_type": "markdown",
      "metadata": {
        "id": "r4OBdfIGCEL7"
      },
      "source": [
        "## **OutPut**:"
      ]
    },
    {
      "cell_type": "code",
      "metadata": {
        "colab": {
          "background_save": true
        },
        "id": "Ocwiwhzw7B6e"
      },
      "source": [
        "!streamlit run /content/Movie-Link/app.py & npx localtunnel --port 8501"
      ],
      "execution_count": null,
      "outputs": []
    }
  ]
}