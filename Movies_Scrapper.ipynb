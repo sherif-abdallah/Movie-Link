{
  "nbformat": 4,
  "nbformat_minor": 0,
  "metadata": {
    "colab": {
      "name": "Movies-Scrapper.ipynb",
      "provenance": [],
      "collapsed_sections": []
    },
    "kernelspec": {
      "name": "python3",
      "display_name": "Python 3"
    },
    "language_info": {
      "name": "python"
    }
  },
  "cells": [
    {
      "cell_type": "markdown",
      "metadata": {
        "id": "R_rHKWGHpxhn"
      },
      "source": [
        "## Uploading Project From Github\n",
        "#### Installing python package from requirements.txt file"
      ]
    },
    {
      "cell_type": "code",
      "metadata": {
        "id": "Q9Z5_Tyvp0e1"
      },
      "source": [
        "!pip install requests==2.25.1\n",
        "!pip install beautifulsoup4==4.9.3\n",
        "!pip install streamlit==1.2.0\n",
        "!pip install pytube==11.0.1"
      ],
      "execution_count": null,
      "outputs": []
    },
    {
      "cell_type": "markdown",
      "metadata": {
        "id": "3i5040nsp7xU"
      },
      "source": [
        "## **OutPut**:"
      ]
    },
    {
      "cell_type": "code",
      "metadata": {
        "id": "JKv-IYaAp-CJ"
      },
      "source": [
        "!streamlit run https://raw.githubusercontent.com/sherif-abdallah/Movie-Link/main/app.py & npx localtunnel --port 8501"
      ],
      "execution_count": null,
      "outputs": []
    },
    {
      "cell_type": "markdown",
      "metadata": {
        "id": "kdHV-lRiqC6O"
      },
      "source": [
        "Copyright 2021 Sherif Abdullah"
      ]
    },
    {
      "cell_type": "markdown",
      "metadata": {
        "id": "ynFI7jh6s9-m"
      },
      "source": [
        "[![Open In Colab](https://colab.research.google.com/assets/colab-badge.svg)](https://colab.research.google.com/github/sherif-abdallah/Movie-Link/blob/main/Movies_Scrapper.ipynb)\n"
      ]
    }
  ]
}